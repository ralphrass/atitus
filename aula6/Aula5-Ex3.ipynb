{
 "cells": [
  {
   "cell_type": "markdown",
   "id": "e997c050-138c-4131-a27a-337773f48c90",
   "metadata": {},
   "source": [
    "# 🎯 Objetivo\n",
    "Os alunos devem **modificar e testar diferentes configurações da rede neural**, analisando o impacto das mudanças nos **resultados e na qualidade do modelo**.\n",
    "\n",
    "---\n"
   ]
  },
  {
   "cell_type": "markdown",
   "id": "999f41d0-4858-4de3-a749-e8950088e75b",
   "metadata": {},
   "source": [
    "## 🔹 Parte 1: Testando Diferentes Estruturas da Rede\n",
    "\n",
    "### ✨ Instruções:\n",
    "1. **Altere o número de neurônios e camadas ocultas da rede** e compare os resultados.\n",
    "   - Teste modelos com **mais ou menos camadas** e **mais ou menos neurônios**.\n",
    "   - Anote o impacto no **erro de treinamento e validação**.\n",
    "\n",
    "2. **Pergunta para reflexão**:  \n",
    "   - Como a **quantidade de camadas e neurônios** afeta o desempenho do modelo?\n"
   ]
  },
  {
   "cell_type": "code",
   "execution_count": 13,
   "id": "f01ff825-5a0e-4863-ae16-15831e78bd03",
   "metadata": {},
   "outputs": [
    {
     "name": "stdout",
     "output_type": "stream",
     "text": [
      "Tamanho do conjunto de treino: (16512, 8)\n",
      "Tamanho do conjunto de teste: (4128, 8)\n"
     ]
    }
   ],
   "source": [
    "# 📌 1. Importando Bibliotecas Necessárias\n",
    "import numpy as np\n",
    "import pandas as pd\n",
    "import matplotlib.pyplot as plt\n",
    "import seaborn as sns\n",
    "from sklearn.datasets import fetch_california_housing\n",
    "from sklearn.model_selection import train_test_split\n",
    "from sklearn.preprocessing import StandardScaler\n",
    "import tensorflow as tf\n",
    "from tensorflow import keras\n",
    "\n",
    "# 📌 2. Carregar e Explorar os Dados\n",
    "data = fetch_california_housing()\n",
    "df = pd.DataFrame(data.data, columns=data.feature_names)\n",
    "df[\"PRICE\"] = data.target  # Variável alvo\n",
    "\n",
    "# Divisão em treino (80%) e teste (20%)\n",
    "X = df.drop(columns=[\"PRICE\"]).values  # Features\n",
    "y = df[\"PRICE\"].values  # Target\n",
    "\n",
    "X_train, X_test, y_train, y_test = train_test_split(X, y, test_size=0.2, random_state=42)\n",
    "\n",
    "# Normalizando os dados para melhorar o desempenho da RNA\n",
    "scaler = StandardScaler()\n",
    "X_train = scaler.fit_transform(X_train)\n",
    "X_test = scaler.transform(X_test)\n",
    "\n",
    "# Verificando os tamanhos dos datasets\n",
    "print(f\"Tamanho do conjunto de treino: {X_train.shape}\")\n",
    "print(f\"Tamanho do conjunto de teste: {X_test.shape}\")\n"
   ]
  },
  {
   "cell_type": "code",
   "execution_count": 14,
   "id": "43110192-c2d3-47c2-aaba-df71381e0993",
   "metadata": {},
   "outputs": [
    {
     "name": "stderr",
     "output_type": "stream",
     "text": [
      "/Users/ralph/.pyenv/versions/3.9.19/envs/IA/lib/python3.9/site-packages/keras/src/layers/core/dense.py:87: UserWarning: Do not pass an `input_shape`/`input_dim` argument to a layer. When using Sequential models, prefer using an `Input(shape)` object as the first layer in the model instead.\n",
      "  super().__init__(activity_regularizer=activity_regularizer, **kwargs)\n"
     ]
    },
    {
     "name": "stdout",
     "output_type": "stream",
     "text": [
      "\u001b[1m129/129\u001b[0m \u001b[32m━━━━━━━━━━━━━━━━━━━━\u001b[0m\u001b[37m\u001b[0m \u001b[1m0s\u001b[0m 287us/step - loss: 0.2672 - mae: 0.3339\n",
      "\n",
      "Erro Quadrático Médio no Teste: 0.2690\n",
      "Erro Médio Absoluto no Teste: 0.3323\n"
     ]
    }
   ],
   "source": [
    "# 📌 Modifique os valores abaixo e analise o impacto!\n",
    "modelo_aluno = keras.Sequential([\n",
    "    keras.layers.Dense(128, activation=\"relu\", input_shape=(X_train.shape[1],)),  \n",
    "    keras.layers.Dense(64, activation=\"relu\"),  \n",
    "    keras.layers.Dense(32, activation=\"relu\"),  \n",
    "    keras.layers.Dense(1)  # Saída única para regressão\n",
    "])\n",
    "\n",
    "# Compilando o modelo\n",
    "modelo_aluno.compile(optimizer=\"adam\", loss=\"mse\", metrics=[\"mae\"])\n",
    "\n",
    "# Treinando o modelo\n",
    "historico_aluno = modelo_aluno.fit(X_train, y_train, epochs=100, validation_data=(X_test, y_test), verbose=0)\n",
    "\n",
    "# Avaliação do novo modelo\n",
    "resultado_aluno = modelo_aluno.evaluate(X_test, y_test)\n",
    "print(f\"\\nErro Quadrático Médio no Teste: {resultado_aluno[0]:.4f}\")\n",
    "print(f\"Erro Médio Absoluto no Teste: {resultado_aluno[1]:.4f}\")\n"
   ]
  },
  {
   "cell_type": "markdown",
   "id": "c121ba8e-b771-4bed-822c-4048b3c9b38e",
   "metadata": {},
   "source": [
    "## 🔹 Parte 2: Experimentando Diferentes Funções de Ativação\n",
    "\n",
    "### ✨ Instruções:\n",
    "1. **Altere a função de ativação** da rede para **sigmoid, tanh ou LeakyReLU** e compare com **ReLU**.  \n",
    "   - Como isso afeta o desempenho do modelo?\n",
    "   - Alguma ativação melhora os resultados?\n",
    "\n",
    "2. **Pergunta para reflexão**:\n",
    "   - Qual função de ativação obteve os melhores resultados? Explique por quê.\n"
   ]
  },
  {
   "cell_type": "code",
   "execution_count": 15,
   "id": "5a2c380d-d256-4ac7-8959-dd8288cbe609",
   "metadata": {},
   "outputs": [
    {
     "name": "stdout",
     "output_type": "stream",
     "text": [
      "\u001b[1m129/129\u001b[0m \u001b[32m━━━━━━━━━━━━━━━━━━━━\u001b[0m\u001b[37m\u001b[0m \u001b[1m0s\u001b[0m 306us/step - loss: 0.2578 - mae: 0.3472\n",
      "\n",
      "Erro Quadrático Médio no Teste: 0.2623\n",
      "Erro Médio Absoluto no Teste: 0.3467\n"
     ]
    }
   ],
   "source": [
    "from tensorflow.keras.layers import LeakyReLU\n",
    "\n",
    "# 📌 Teste outras ativações: 'sigmoid', 'tanh', ou LeakyReLU()\n",
    "modelo_aluno = keras.Sequential([\n",
    "    keras.layers.Dense(64, activation=\"tanh\", input_shape=(X_train.shape[1],)),  \n",
    "    keras.layers.Dense(32, activation=\"tanh\"),  \n",
    "    keras.layers.Dense(1)  \n",
    "])\n",
    "\n",
    "# Compilação e treinamento\n",
    "modelo_aluno.compile(optimizer=\"adam\", loss=\"mse\", metrics=[\"mae\"])\n",
    "historico_aluno = modelo_aluno.fit(X_train, y_train, epochs=100, validation_data=(X_test, y_test), verbose=0)\n",
    "\n",
    "# Comparação de Resultados\n",
    "resultado_aluno = modelo_aluno.evaluate(X_test, y_test)\n",
    "print(f\"\\nErro Quadrático Médio no Teste: {resultado_aluno[0]:.4f}\")\n",
    "print(f\"Erro Médio Absoluto no Teste: {resultado_aluno[1]:.4f}\")\n"
   ]
  },
  {
   "cell_type": "markdown",
   "id": "bfbd72d4-d22f-4574-8138-77ce135b5848",
   "metadata": {},
   "source": [
    "## 🔹 Parte 3: Comparação de Diferentes Otimizadores\n",
    "\n",
    "### ✨ Instruções:\n",
    "1. **Modifique o otimizador** do modelo para **SGD, RMSprop ou Adam** e veja a diferença nos resultados.\n",
    "\n",
    "2. **Pergunta para reflexão**:\n",
    "   - Qual otimizador foi mais rápido para convergir? Algum ficou preso em um erro alto?\n"
   ]
  },
  {
   "cell_type": "code",
   "execution_count": 11,
   "id": "7853ed87-e429-4a2d-9c29-2c8704cfb916",
   "metadata": {},
   "outputs": [],
   "source": [
    "# 📌 Teste diferentes otimizadores: 'sgd', 'rmsprop', 'adam'\n",
    "modelo_aluno.compile(optimizer=\"sgd\", loss=\"mse\", metrics=[\"mae\"])\n",
    "historico_aluno = modelo_aluno.fit(X_train, y_train, epochs=100, validation_data=(X_test, y_test), verbose=0)\n"
   ]
  },
  {
   "cell_type": "markdown",
   "id": "e24f6608-4025-4714-b451-56800775e61d",
   "metadata": {},
   "source": [
    "## 🔹 Parte 4: Aplicação em um Novo Dataset\n",
    "\n",
    "### ✨ Instruções:\n",
    "1. **Encontre outro dataset de regressão** no `sklearn.datasets` ou baixe do Kaggle.\n",
    "2. **Preprocessamento:** Certifique-se de **normalizar os dados** e **separar treino e teste**.\n",
    "3. **Ajuste a rede** para o novo dataset.\n",
    "\n",
    "2. **Pergunta para reflexão**:\n",
    "   - O modelo treinado no dataset anterior funcionou bem neste novo? Explique.\n"
   ]
  },
  {
   "cell_type": "code",
   "execution_count": 12,
   "id": "8a0ec3db-d013-4fe2-9e31-2141c29cbd56",
   "metadata": {},
   "outputs": [
    {
     "name": "stdout",
     "output_type": "stream",
     "text": [
      "      CRIM    ZN  INDUS CHAS    NOX     RM   AGE     DIS RAD    TAX  PTRATIO  \\\n",
      "0  0.00632  18.0   2.31    0  0.538  6.575  65.2  4.0900   1  296.0     15.3   \n",
      "1  0.02731   0.0   7.07    0  0.469  6.421  78.9  4.9671   2  242.0     17.8   \n",
      "2  0.02729   0.0   7.07    0  0.469  7.185  61.1  4.9671   2  242.0     17.8   \n",
      "3  0.03237   0.0   2.18    0  0.458  6.998  45.8  6.0622   3  222.0     18.7   \n",
      "4  0.06905   0.0   2.18    0  0.458  7.147  54.2  6.0622   3  222.0     18.7   \n",
      "\n",
      "        B  LSTAT  MEDV  \n",
      "0  396.90   4.98  24.0  \n",
      "1  396.90   9.14  21.6  \n",
      "2  392.83   4.03  34.7  \n",
      "3  394.63   2.94  33.4  \n",
      "4  396.90   5.33  36.2  \n"
     ]
    }
   ],
   "source": [
    "from sklearn.datasets import fetch_openml\n",
    "\n",
    "# 📌 Carregando um dataset alternativo\n",
    "new_data = fetch_openml(name=\"boston\", version=1, as_frame=True)\n",
    "df_new = new_data.frame\n",
    "print(df_new.head())\n"
   ]
  },
  {
   "cell_type": "markdown",
   "id": "d895e2d8-fa72-47d3-96bc-3bbca11845b6",
   "metadata": {},
   "source": [
    "# 📌 Conclusão da Atividade\n",
    "\n",
    "### 🎯 O que os trabalhamos:\n",
    "✅ Ajustar **arquitetura de redes neurais** (camadas, neurônios).  \n",
    "✅ Testar **diferentes funções de ativação e otimizadores**.  \n",
    "✅ Aplicar a rede a **outros datasets reais**.  \n",
    "\n"
   ]
  },
  {
   "cell_type": "code",
   "execution_count": null,
   "id": "fcf2e874-262a-431b-a9d2-8977569a6957",
   "metadata": {},
   "outputs": [],
   "source": []
  }
 ],
 "metadata": {
  "kernelspec": {
   "display_name": "Python 3 (ipykernel)",
   "language": "python",
   "name": "python3"
  },
  "language_info": {
   "codemirror_mode": {
    "name": "ipython",
    "version": 3
   },
   "file_extension": ".py",
   "mimetype": "text/x-python",
   "name": "python",
   "nbconvert_exporter": "python",
   "pygments_lexer": "ipython3",
   "version": "3.9.19"
  }
 },
 "nbformat": 4,
 "nbformat_minor": 5
}
