{
 "cells": [
  {
   "cell_type": "markdown",
   "id": "258ca3e7-42e8-495f-9438-2dbba0f961eb",
   "metadata": {},
   "source": [
    "## 🔹 Parte 1: Escolha um Dataset\n",
    "\n",
    "### ✨ Instruções:\n",
    "1. Escolha um dataset de **regressão** ou **classificação** do `sklearn.datasets` ou do Kaggle.\n",
    "2. Divida os dados em **treino e teste (80/20)**.\n",
    "3. **Normalize os dados** para garantir um treinamento justo.\n",
    "\n",
    "---\n"
   ]
  },
  {
   "cell_type": "code",
   "execution_count": 6,
   "id": "89f7fe53-1403-4373-a861-f5216734ff8f",
   "metadata": {},
   "outputs": [
    {
     "name": "stdout",
     "output_type": "stream",
     "text": [
      "Collecting xgboost\n",
      "  Downloading xgboost-2.1.4-py3-none-macosx_12_0_arm64.whl.metadata (2.1 kB)\n",
      "Requirement already satisfied: numpy in /Users/ralph/.pyenv/versions/3.9.19/envs/IA/lib/python3.9/site-packages (from xgboost) (1.26.4)\n",
      "Requirement already satisfied: scipy in /Users/ralph/.pyenv/versions/3.9.19/envs/IA/lib/python3.9/site-packages (from xgboost) (1.10.1)\n",
      "Downloading xgboost-2.1.4-py3-none-macosx_12_0_arm64.whl (1.9 MB)\n",
      "\u001b[2K   \u001b[90m━━━━━━━━━━━━━━━━━━━━━━━━━━━━━━━━━━━━━━━━\u001b[0m \u001b[32m1.9/1.9 MB\u001b[0m \u001b[31m4.7 MB/s\u001b[0m eta \u001b[36m0:00:00\u001b[0ma \u001b[36m0:00:01\u001b[0m\n",
      "\u001b[?25hInstalling collected packages: xgboost\n",
      "Successfully installed xgboost-2.1.4\n",
      "\n",
      "\u001b[1m[\u001b[0m\u001b[34;49mnotice\u001b[0m\u001b[1;39;49m]\u001b[0m\u001b[39;49m A new release of pip is available: \u001b[0m\u001b[31;49m24.2\u001b[0m\u001b[39;49m -> \u001b[0m\u001b[32;49m25.0.1\u001b[0m\n",
      "\u001b[1m[\u001b[0m\u001b[34;49mnotice\u001b[0m\u001b[1;39;49m]\u001b[0m\u001b[39;49m To update, run: \u001b[0m\u001b[32;49mpython -m pip install --upgrade pip\u001b[0m\n",
      "Note: you may need to restart the kernel to use updated packages.\n"
     ]
    }
   ],
   "source": [
    "%pip install xgboost"
   ]
  },
  {
   "cell_type": "code",
   "execution_count": 7,
   "id": "ca8ef72d-4a66-4846-9931-64d5e390a4c4",
   "metadata": {},
   "outputs": [
    {
     "name": "stdout",
     "output_type": "stream",
     "text": [
      "Tamanho do conjunto de treino: (16512, 8)\n",
      "Tamanho do conjunto de teste: (4128, 8)\n"
     ]
    }
   ],
   "source": [
    "# 📌 Carregar um dataset para comparação\n",
    "from sklearn.datasets import fetch_california_housing\n",
    "from sklearn.model_selection import train_test_split\n",
    "from sklearn.preprocessing import StandardScaler\n",
    "import pandas as pd\n",
    "\n",
    "# Escolhendo o dataset de preços de imóveis (regressão)\n",
    "data = fetch_california_housing()\n",
    "df = pd.DataFrame(data.data, columns=data.feature_names)\n",
    "df[\"PRICE\"] = data.target  # Variável alvo\n",
    "\n",
    "# Separação treino/teste\n",
    "X = df.drop(columns=[\"PRICE\"]).values\n",
    "y = df[\"PRICE\"].values\n",
    "X_train, X_test, y_train, y_test = train_test_split(X, y, test_size=0.2, random_state=42)\n",
    "\n",
    "# Normalização dos dados\n",
    "scaler = StandardScaler()\n",
    "X_train = scaler.fit_transform(X_train)\n",
    "X_test = scaler.transform(X_test)\n",
    "\n",
    "print(f\"Tamanho do conjunto de treino: {X_train.shape}\")\n",
    "print(f\"Tamanho do conjunto de teste: {X_test.shape}\")\n"
   ]
  },
  {
   "cell_type": "markdown",
   "id": "ec588618-9674-47d3-9968-2f2fc3d21664",
   "metadata": {},
   "source": [
    "## 🔹 Parte 2: Treinar os Modelos\n",
    "\n",
    "### ✨ Instruções:\n",
    "1. **Treine os modelos tradicionais**: KNN, Árvore de Decisão, Random Forest, Gradient Boosting e XGBoost.\n",
    "2. **Treine uma Rede Neural** para comparar os resultados.\n",
    "3. **Compare as métricas** e veja qual modelo se sai melhor.\n",
    "\n",
    "---\n"
   ]
  },
  {
   "cell_type": "code",
   "execution_count": 8,
   "id": "cf9b446c-52ec-49cb-b2a1-ce74b335b48a",
   "metadata": {},
   "outputs": [
    {
     "name": "stdout",
     "output_type": "stream",
     "text": [
      "                        MSE       MAE        R²\n",
      "KNN                0.432422  0.446154  0.670010\n",
      "Árvore de Decisão  0.524515  0.522259  0.599732\n",
      "Random Forest      0.254951  0.327901  0.805442\n",
      "Gradient Boosting  0.293936  0.371636  0.775691\n",
      "XGBoost            0.222590  0.309573  0.830137\n"
     ]
    }
   ],
   "source": [
    "# 📌 Importando os modelos tradicionais\n",
    "from sklearn.neighbors import KNeighborsRegressor\n",
    "from sklearn.tree import DecisionTreeRegressor\n",
    "from sklearn.ensemble import RandomForestRegressor, GradientBoostingRegressor\n",
    "from xgboost import XGBRegressor\n",
    "import tensorflow as tf\n",
    "from tensorflow import keras\n",
    "\n",
    "# Criando modelos\n",
    "modelos = {\n",
    "    \"KNN\": KNeighborsRegressor(n_neighbors=5),\n",
    "    \"Árvore de Decisão\": DecisionTreeRegressor(max_depth=5),\n",
    "    \"Random Forest\": RandomForestRegressor(n_estimators=100),\n",
    "    \"Gradient Boosting\": GradientBoostingRegressor(n_estimators=100),\n",
    "    \"XGBoost\": XGBRegressor(n_estimators=100, objective=\"reg:squarederror\"),\n",
    "}\n",
    "\n",
    "# Treinando e avaliando os modelos\n",
    "from sklearn.metrics import mean_squared_error, mean_absolute_error, r2_score\n",
    "\n",
    "resultados = {}\n",
    "\n",
    "for nome, modelo in modelos.items():\n",
    "    modelo.fit(X_train, y_train)\n",
    "    y_pred = modelo.predict(X_test)\n",
    "    \n",
    "    # Calculando métricas\n",
    "    mse = mean_squared_error(y_test, y_pred)\n",
    "    mae = mean_absolute_error(y_test, y_pred)\n",
    "    r2 = r2_score(y_test, y_pred)\n",
    "\n",
    "    resultados[nome] = {\"MSE\": mse, \"MAE\": mae, \"R²\": r2}\n",
    "\n",
    "# Exibindo os resultados em um DataFrame\n",
    "df_resultados = pd.DataFrame(resultados).T\n",
    "print(df_resultados)\n"
   ]
  },
  {
   "cell_type": "markdown",
   "id": "c7526cae-5c29-4f7f-b989-7eabbd0ff887",
   "metadata": {},
   "source": [
    "## 🔹 Parte 3: Treinar a Rede Neural\n",
    "\n",
    "### ✨ Instruções:\n",
    "1. **Crie uma rede neural simples** usando TensorFlow/Keras.\n",
    "2. **Compare os resultados com os modelos anteriores**.\n",
    "\n",
    "---\n"
   ]
  },
  {
   "cell_type": "code",
   "execution_count": 9,
   "id": "c0cbc2b7-fa16-4c29-98e1-e9e6796f7f3e",
   "metadata": {},
   "outputs": [
    {
     "name": "stderr",
     "output_type": "stream",
     "text": [
      "/Users/ralph/.pyenv/versions/3.9.19/envs/IA/lib/python3.9/site-packages/keras/src/layers/core/dense.py:87: UserWarning: Do not pass an `input_shape`/`input_dim` argument to a layer. When using Sequential models, prefer using an `Input(shape)` object as the first layer in the model instead.\n",
      "  super().__init__(activity_regularizer=activity_regularizer, **kwargs)\n"
     ]
    },
    {
     "name": "stdout",
     "output_type": "stream",
     "text": [
      "\u001b[1m129/129\u001b[0m \u001b[32m━━━━━━━━━━━━━━━━━━━━\u001b[0m\u001b[37m\u001b[0m \u001b[1m0s\u001b[0m 263us/step - loss: 0.2571 - mae: 0.3419\n",
      "\u001b[1m129/129\u001b[0m \u001b[32m━━━━━━━━━━━━━━━━━━━━\u001b[0m\u001b[37m\u001b[0m \u001b[1m0s\u001b[0m 246us/step\n",
      "                        MSE       MAE        R²\n",
      "KNN                0.432422  0.446154  0.670010\n",
      "Árvore de Decisão  0.524515  0.522259  0.599732\n",
      "Random Forest      0.254951  0.327901  0.805442\n",
      "Gradient Boosting  0.293936  0.371636  0.775691\n",
      "XGBoost            0.222590  0.309573  0.830137\n",
      "Rede Neural        0.258089  0.339552  0.803047\n"
     ]
    }
   ],
   "source": [
    "# 📌 Criando a Rede Neural\n",
    "modelo_rna = keras.Sequential([\n",
    "    keras.layers.Dense(64, activation=\"relu\", input_shape=(X_train.shape[1],)),\n",
    "    keras.layers.Dense(32, activation=\"relu\"),\n",
    "    keras.layers.Dense(1)  # Saída única para regressão\n",
    "])\n",
    "\n",
    "modelo_rna.compile(optimizer=\"adam\", loss=\"mse\", metrics=[\"mae\"])\n",
    "historico_rna = modelo_rna.fit(X_train, y_train, epochs=100, validation_data=(X_test, y_test), verbose=0)\n",
    "\n",
    "# Avaliação da Rede Neural\n",
    "mse_rna, mae_rna = modelo_rna.evaluate(X_test, y_test)\n",
    "r2_rna = r2_score(y_test, modelo_rna.predict(X_test))\n",
    "\n",
    "# Adicionando os resultados da RNA na tabela\n",
    "df_resultados.loc[\"Rede Neural\"] = {\"MSE\": mse_rna, \"MAE\": mae_rna, \"R²\": r2_rna}\n",
    "print(df_resultados)\n"
   ]
  },
  {
   "cell_type": "markdown",
   "id": "e45df688-c249-4d8a-bc4f-00acd3d81ddf",
   "metadata": {},
   "source": [
    "## 🔹 Parte 4: Analisando os Resultados\n",
    "\n",
    "### ✨ Instruções:\n",
    "1. Compare os valores de **MSE, MAE e R²** entre os modelos.\n",
    "2. **Perguntas para reflexão**:\n",
    "   - Qual modelo teve **melhor desempenho**? Por quê?\n",
    "   - O que acontece se **ajustarmos hiperparâmetros** nos modelos tradicionais?\n",
    "   - A Rede Neural superou os outros modelos? Se não, o que pode ser ajustado?\n",
    "\n",
    "---\n"
   ]
  },
  {
   "cell_type": "code",
   "execution_count": 10,
   "id": "6e7ef5bb-4526-4cd3-9f48-15b3c0d8f945",
   "metadata": {},
   "outputs": [
    {
     "data": {
      "image/png": "[encoded data removed]",
      "text/plain": [
       "<Figure size 1000x500 with 1 Axes>"
      ]
     },
     "metadata": {},
     "output_type": "display_data"
    }
   ],
   "source": [
    "# 📌 Visualização dos Resultados\n",
    "import matplotlib.pyplot as plt\n",
    "\n",
    "df_resultados.plot(kind=\"bar\", figsize=(10, 5), title=\"Comparação de Modelos\")\n",
    "plt.ylabel(\"Erro (MSE e MAE) / R²\")\n",
    "plt.xticks(rotation=45)\n",
    "plt.grid()\n",
    "plt.show()\n"
   ]
  },
  {
   "cell_type": "markdown",
   "id": "ea05e888-324a-4186-91bb-ffcb46192410",
   "metadata": {},
   "source": [
    "## 📌 Conclusão da Atividade\n",
    "\n",
    "✅ Comparar **Redes Neurais com modelos tradicionais**.  \n",
    "✅ Medir o desempenho de modelos usando **MSE, MAE e R²**.  \n",
    "✅ Experimentar **hiperparâmetros para melhorar modelos**.  \n",
    "✅ Avaliar em que situações **Redes Neurais são melhores que outros algoritmos**.  \n"
   ]
  },
  {
   "cell_type": "code",
   "execution_count": null,
   "id": "a8029254-1719-4c41-9cd9-2f2a2d0d9f8a",
   "metadata": {},
   "outputs": [],
   "source": []
  }
 ],
 "metadata": {
  "kernelspec": {
   "display_name": "Python 3 (ipykernel)",
   "language": "python",
   "name": "python3"
  },
  "language_info": {
   "codemirror_mode": {
    "name": "ipython",
    "version": 3
   },
   "file_extension": ".py",
   "mimetype": "text/x-python",
   "name": "python",
   "nbconvert_exporter": "python",
   "pygments_lexer": "ipython3",
   "version": "3.9.19"
  }
 },
 "nbformat": 4,
 "nbformat_minor": 5
}
