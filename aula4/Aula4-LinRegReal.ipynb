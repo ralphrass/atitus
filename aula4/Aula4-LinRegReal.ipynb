{
 "cells": [
  {
   "cell_type": "markdown",
   "id": "ac8786be-8ccb-407c-aead-e18c20e24a15",
   "metadata": {},
   "source": [
    "📌 Exercício: Criando uma Regressão para um Problema do Mundo Real\n",
    "\n",
    "📢 Objetivo: Cada grupo deve coletar um pequeno conjunto de dados reais e aplicar Regressão Linear para analisar padrões.\n",
    "\n",
    "\n",
    "📌 Sugestões de Tópicos (ou escolha outro de interesse!):\n",
    "\n",
    "✔ Preço de celulares vs. Ano de lançamento.\n",
    "\n",
    "✔ Salário médio vs. Anos de experiência em uma profissão.\n",
    "\n",
    "✔ Número de seguidores em redes sociais vs. Engajamento médio (curtidas, comentários).\n"
   ]
  },
  {
   "cell_type": "markdown",
   "id": "e141c4c9-9214-4480-b6a0-75aa96a28161",
   "metadata": {},
   "source": [
    "🔹 Passo 1: Coletando os Dados\n",
    "\n",
    "📌 Tarefa:\n",
    "\n",
    "Cada grupo deve coletar pelo menos 8 a 15 pontos de dados reais.\n",
    "Sugestões de fontes: Sites de comparação de preços, Glassdoor, LinkedIn, Instagram, etc.\n",
    "Organize os dados em duas colunas: X (variável preditora) e y (variável alvo).\n",
    "\n",
    "📌 Dica: Se for difícil encontrar dados reais, crie um conjunto fictício baseado em valores realistas.\n",
    "\n"
   ]
  },
  {
   "cell_type": "code",
   "execution_count": null,
   "id": "19630390-5dbc-4fd4-9117-debb85d69714",
   "metadata": {},
   "outputs": [],
   "source": [
    "import pandas as pd\n",
    "\n",
    "# Exemplo: Salário médio vs. Anos de experiência\n",
    "dados = {\n",
    "    \"VAR PREDITORA\": [... DADOS ...],\n",
    "    \"VAR ALVO\": [... DADOS ...]\n",
    "}\n",
    "\n",
    "df = pd.DataFrame(dados)\n",
    "print(df)\n"
   ]
  },
  {
   "cell_type": "markdown",
   "id": "33a4066a-d131-4c2d-89f6-42d9a287d251",
   "metadata": {},
   "source": [
    "📌 Perguntas para reflexão:\n",
    "\n",
    "1️⃣ Os dados coletados parecem ter uma relação linear?\n",
    "\n",
    "2️⃣ Qual seria sua hipótese inicial sobre a relação entre X e y?"
   ]
  },
  {
   "cell_type": "markdown",
   "id": "90885d5c-16bd-4d8b-834b-58a859c3b77e",
   "metadata": {},
   "source": [
    "🔹 Passo 2: Criando um Gráfico de Dispersão\n",
    "\n",
    "📌 Tarefa:\n",
    "\n",
    "Visualize os dados com um gráfico de dispersão para identificar padrões.\n",
    "\n",
    "Destaque possíveis outliers que podem afetar a regressão."
   ]
  },
  {
   "cell_type": "code",
   "execution_count": 2,
   "id": "088e4906-8db5-4f14-aa93-3dcf2fe0d0b9",
   "metadata": {},
   "outputs": [
    {
     "ename": "NameError",
     "evalue": "name 'df' is not defined",
     "output_type": "error",
     "traceback": [
      "\u001b[0;31m---------------------------------------------------------------------------\u001b[0m",
      "\u001b[0;31mNameError\u001b[0m                                 Traceback (most recent call last)",
      "Cell \u001b[0;32mIn[2], line 4\u001b[0m\n\u001b[1;32m      1\u001b[0m \u001b[38;5;28;01mimport\u001b[39;00m \u001b[38;5;21;01mmatplotlib\u001b[39;00m\u001b[38;5;21;01m.\u001b[39;00m\u001b[38;5;21;01mpyplot\u001b[39;00m \u001b[38;5;28;01mas\u001b[39;00m \u001b[38;5;21;01mplt\u001b[39;00m\n\u001b[1;32m      3\u001b[0m \u001b[38;5;66;03m# Criando um gráfico de dispersão\u001b[39;00m\n\u001b[0;32m----> 4\u001b[0m plt\u001b[38;5;241m.\u001b[39mscatter(\u001b[43mdf\u001b[49m[\u001b[38;5;124m\"\u001b[39m\u001b[38;5;124mVAR\u001b[39m\u001b[38;5;124m\"\u001b[39m], df[\u001b[38;5;124m\"\u001b[39m\u001b[38;5;124mVAR\u001b[39m\u001b[38;5;124m\"\u001b[39m], color\u001b[38;5;241m=\u001b[39m\u001b[38;5;124m\"\u001b[39m\u001b[38;5;124mblue\u001b[39m\u001b[38;5;124m\"\u001b[39m, alpha\u001b[38;5;241m=\u001b[39m\u001b[38;5;241m0.6\u001b[39m)\n\u001b[1;32m      5\u001b[0m plt\u001b[38;5;241m.\u001b[39mxlabel(\u001b[38;5;124m\"\u001b[39m\u001b[38;5;124mVAR 1\u001b[39m\u001b[38;5;124m\"\u001b[39m)\n\u001b[1;32m      6\u001b[0m plt\u001b[38;5;241m.\u001b[39mylabel(\u001b[38;5;124m\"\u001b[39m\u001b[38;5;124mVAR 2\u001b[39m\u001b[38;5;124m\"\u001b[39m)\n",
      "\u001b[0;31mNameError\u001b[0m: name 'df' is not defined"
     ]
    }
   ],
   "source": [
    "import matplotlib.pyplot as plt\n",
    "\n",
    "# Criando um gráfico de dispersão\n",
    "plt.scatter(df[\"VAR\"], df[\"VAR\"], color=\"blue\", alpha=0.6)\n",
    "plt.xlabel(\"VAR 1\")\n",
    "plt.ylabel(\"VAR 2\")\n",
    "plt.title(\"Anos de Experiência vs. Salário Médio\")\n",
    "plt.show()\n"
   ]
  },
  {
   "cell_type": "markdown",
   "id": "b43deb2c-514d-4456-8e5d-90e3084c2589",
   "metadata": {},
   "source": [
    "📌 Perguntas para reflexão:\n",
    "\n",
    "1️⃣ Existe um padrão visível entre as variáveis?\n",
    "\n",
    "2️⃣ Algum ponto parece destoar dos demais (outlier)?"
   ]
  },
  {
   "cell_type": "markdown",
   "id": "9a4a4044-f817-46eb-a49c-013ec0230e06",
   "metadata": {},
   "source": [
    "🔹 Passo 3: Criando o Modelo de Regressão Linear\n",
    "\n",
    "📌 Tarefa:\n",
    "\n",
    "Treine um modelo de regressão linear com os dados coletados.\n",
    "\n",
    "Encontre a equação da reta de regressão na forma: y = mX + b.\n",
    "\n",
    "Plote a reta sobre os dados reais."
   ]
  },
  {
   "cell_type": "code",
   "execution_count": 3,
   "id": "0680e159-2f01-4699-aaef-993e432268ca",
   "metadata": {},
   "outputs": [
    {
     "ename": "SyntaxError",
     "evalue": "invalid syntax (1591451526.py, line 4)",
     "output_type": "error",
     "traceback": [
      "\u001b[0;36m  Cell \u001b[0;32mIn[3], line 4\u001b[0;36m\u001b[0m\n\u001b[0;31m    X = df[[?]]\u001b[0m\n\u001b[0m            ^\u001b[0m\n\u001b[0;31mSyntaxError\u001b[0m\u001b[0;31m:\u001b[0m invalid syntax\n"
     ]
    }
   ],
   "source": [
    "from sklearn.linear_model import LinearRegression\n",
    "\n",
    "# Separando as variáveis X e y\n",
    "X = df[[?]]\n",
    "y = df[?]\n",
    "\n",
    "# Criando e treinando o modelo\n",
    "modelo = LinearRegression()\n",
    "modelo.fit(X, y)\n",
    "\n",
    "# Obtendo os coeficientes\n",
    "m = modelo.coef_[0]  # Inclinação\n",
    "b = modelo.intercept_  # Intercepto\n",
    "\n",
    "print(f\"Equação do Modelo: VAR = {m:.2f} * VAR 2 + {b:.2f}\")\n",
    "\n",
    "# Fazendo previsões para os valores de X\n",
    "y_pred = modelo.predict(X)\n",
    "\n",
    "# Plotando a regressão linear\n",
    "plt.scatter(X, y, color=\"blue\", alpha=0.6, label=\"Dados Reais\")\n",
    "plt.plot(X, y_pred, color=\"red\", label=\"Regressão Linear\")\n",
    "plt.xlabel(\"VAR \")\n",
    "plt.ylabel(\"VAR 2\")\n",
    "plt.title(\"Regressão Linear: VAR vs. VAR 2\")\n",
    "plt.legend()\n",
    "plt.show()\n"
   ]
  },
  {
   "cell_type": "markdown",
   "id": "dd878e50-ccf8-45ba-8c71-9829e28f7f49",
   "metadata": {},
   "source": [
    "📌 Perguntas para reflexão:\n",
    "\n",
    "1️⃣ A equação faz sentido para os dados?\n",
    "\n",
    "2️⃣ A reta se ajusta bem ao gráfico?"
   ]
  },
  {
   "cell_type": "markdown",
   "id": "1e06758f-1a88-49cd-9a99-8bd11ea1736e",
   "metadata": {},
   "source": [
    "🔹 Passo 4: Fazendo Previsões\n",
    "\n",
    "📌 Tarefa:\n",
    "\n",
    "Teste o modelo fazendo previsões para novos valores de X.\n",
    "\n",
    "Compare com os valores reais e veja se a previsão faz sentido.\n"
   ]
  },
  {
   "cell_type": "code",
   "execution_count": 4,
   "id": "00660074-8c5f-450a-aac7-634e892a0728",
   "metadata": {},
   "outputs": [
    {
     "ename": "SyntaxError",
     "evalue": "invalid syntax (2900185943.py, line 1)",
     "output_type": "error",
     "traceback": [
      "\u001b[0;36m  Cell \u001b[0;32mIn[4], line 1\u001b[0;36m\u001b[0m\n\u001b[0;31m    nova_entrada = [[?]]  # Valor de entrada\u001b[0m\n\u001b[0m                     ^\u001b[0m\n\u001b[0;31mSyntaxError\u001b[0m\u001b[0;31m:\u001b[0m invalid syntax\n"
     ]
    }
   ],
   "source": [
    "nova_entrada = [[?]]  # Valor de entrada\n",
    "VAR_PRED = modelo.predict(nova_entrada)\n",
    "\n",
    "print(f\"Previsão para ?: {VAR_PRED[0]:.2f} mil\")\n"
   ]
  },
  {
   "cell_type": "markdown",
   "id": "156a0ac2-6ea0-4ade-a08e-e081b3e529a9",
   "metadata": {},
   "source": [
    "📌 Perguntas para reflexão:\n",
    "\n",
    "1️⃣ A previsão do modelo faz sentido?\n",
    "\n",
    "2️⃣ O modelo seria útil para prever valores muito altos?"
   ]
  },
  {
   "cell_type": "markdown",
   "id": "528ab7d5-3579-4bf0-8aef-19d1af533f3f",
   "metadata": {},
   "source": [
    "🔹 Passo 5: Avaliando o Modelo\n",
    "\n",
    "📌 Tarefa:\n",
    "\n",
    "Calcule o Erro Quadrático Médio (MSE) para medir o quão bem o modelo se ajusta aos dados.\n",
    "\n",
    "Compare a performance do modelo com e sem possíveis outliers."
   ]
  },
  {
   "cell_type": "code",
   "execution_count": 5,
   "id": "99e4b690-4d94-47b9-95cd-083c8fffce8a",
   "metadata": {},
   "outputs": [
    {
     "ename": "NameError",
     "evalue": "name 'y' is not defined",
     "output_type": "error",
     "traceback": [
      "\u001b[0;31m---------------------------------------------------------------------------\u001b[0m",
      "\u001b[0;31mNameError\u001b[0m                                 Traceback (most recent call last)",
      "Cell \u001b[0;32mIn[5], line 4\u001b[0m\n\u001b[1;32m      1\u001b[0m \u001b[38;5;28;01mfrom\u001b[39;00m \u001b[38;5;21;01msklearn\u001b[39;00m\u001b[38;5;21;01m.\u001b[39;00m\u001b[38;5;21;01mmetrics\u001b[39;00m \u001b[38;5;28;01mimport\u001b[39;00m mean_squared_error\n\u001b[1;32m      3\u001b[0m \u001b[38;5;66;03m# Calculando o erro MSE\u001b[39;00m\n\u001b[0;32m----> 4\u001b[0m mse \u001b[38;5;241m=\u001b[39m mean_squared_error(\u001b[43my\u001b[49m, y_pred)\n\u001b[1;32m      5\u001b[0m \u001b[38;5;28mprint\u001b[39m(\u001b[38;5;124mf\u001b[39m\u001b[38;5;124m\"\u001b[39m\u001b[38;5;124mErro Quadrático Médio (MSE): \u001b[39m\u001b[38;5;132;01m{\u001b[39;00mmse\u001b[38;5;132;01m:\u001b[39;00m\u001b[38;5;124m.2f\u001b[39m\u001b[38;5;132;01m}\u001b[39;00m\u001b[38;5;124m\"\u001b[39m)\n",
      "\u001b[0;31mNameError\u001b[0m: name 'y' is not defined"
     ]
    }
   ],
   "source": [
    "from sklearn.metrics import mean_squared_error\n",
    "\n",
    "# Calculando o erro MSE\n",
    "mse = mean_squared_error(y, y_pred)\n",
    "print(f\"Erro Quadrático Médio (MSE): {mse:.2f}\")\n"
   ]
  },
  {
   "cell_type": "markdown",
   "id": "ff89b7bc-35f0-4fb4-a427-a05fb9416d9e",
   "metadata": {},
   "source": [
    "🔹 Passo 6: Analisando os Resultados\n",
    "\n",
    "📌 Tarefa:\n",
    "\n",
    "Seu grupo deve escrever um pequeno relatório sobre o modelo. Tópicos:\n",
    "\n",
    "O modelo se ajusta bem aos dados?\n",
    "\n",
    "A regressão linear é a melhor escolha para esse problema?\n",
    "\n",
    "O modelo pode prever valores muito altos ou baixos? Por quê?"
   ]
  },
  {
   "cell_type": "code",
   "execution_count": null,
   "id": "7d00164d-cde5-45b8-9b86-bd123393490a",
   "metadata": {},
   "outputs": [],
   "source": []
  }
 ],
 "metadata": {
  "kernelspec": {
   "display_name": "Python 3 (ipykernel)",
   "language": "python",
   "name": "python3"
  },
  "language_info": {
   "codemirror_mode": {
    "name": "ipython",
    "version": 3
   },
   "file_extension": ".py",
   "mimetype": "text/x-python",
   "name": "python",
   "nbconvert_exporter": "python",
   "pygments_lexer": "ipython3",
   "version": "3.9.19"
  }
 },
 "nbformat": 4,
 "nbformat_minor": 5
}
