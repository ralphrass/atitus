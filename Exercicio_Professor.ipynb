{
 "cells": [
  {
   "cell_type": "markdown",
   "metadata": {},
   "source": [
    "# Exercícios de Familiarização com Jupyter Notebook (Versão do Professor)\n",
    "\n",
    "Esta é a versão com possíveis soluções/implementações dos exercícios de Markdown e funcionalidades básicas do Jupyter.\n",
    "\n",
    "---\n",
    "## Sumário de Exercícios\n",
    "1. Título e subtítulo em Markdown.\n",
    "2. Texto em **negrito** e *itálico*.\n",
    "3. Listas enumeradas e listas com marcadores.\n",
    "4. Inserir um link.\n",
    "5. Inserir uma imagem.\n",
    "6. Inserir um trecho de código em Markdown.\n",
    "7. Inserir uma equação em LaTeX.\n",
    "8. Criar uma célula Raw NBConvert e explicar.\n",
    "9. Utilizar uma \"magia\" do Jupyter.\n",
    "10. Célula de código em Python que imprima uma mensagem.\n",
    "\n",
    "---\n",
    "## Respostas/Soluções"
   ]
  },
  {
   "cell_type": "markdown",
   "metadata": {},
   "source": [
    "### Exercício 1 - Solução\n",
    "```markdown\n",
    "# Meu Título\n",
    "## Meu Subtítulo\n",
    "```\n",
    "\n",
    "Resultado:\n",
    "# Meu Título\n",
    "## Meu Subtítulo"
   ]
  },
  {
   "cell_type": "markdown",
   "metadata": {},
   "source": [
    "### Exercício 2 - Solução\n",
    "```markdown\n",
    "Texto em **negrito** e outro texto em *itálico*.\n",
    "```  \n",
    "\n",
    "Resultado:\n",
    "Texto em **negrito** e outro texto em *itálico*."
   ]
  },
  {
   "cell_type": "markdown",
   "metadata": {},
   "source": [
    "### Exercício 3 - Solução\n",
    "```markdown\n",
    "1. Item 1\n",
    "2. Item 2\n",
    "3. Item 3\n",
    "\n",
    "- Marcador 1\n",
    "- Marcador 2\n",
    "- Marcador 3\n",
    "```\n",
    "\n",
    "Resultado:\n",
    "1. Item 1\n",
    "2. Item 2\n",
    "3. Item 3\n",
    "\n",
    "- Marcador 1\n",
    "- Marcador 2\n",
    "- Marcador 3"
   ]
  },
  {
   "cell_type": "markdown",
   "metadata": {},
   "source": [
    "### Exercício 4 - Solução\n",
    "```markdown\n",
    "[Link para o Google](https://www.google.com)\n",
    "```\n",
    "\n",
    "Resultado: [Link para o Google](https://www.google.com)"
   ]
  },
  {
   "cell_type": "markdown",
   "metadata": {},
   "source": [
    "### Exercício 5 - Solução\n",
    "```markdown\n",
    "![Exemplo de Imagem](https://via.placeholder.com/200)\n",
    "```\n",
    "\n",
    "Resultado (imagem fictícia placeholder):\n",
    "![Exemplo de Imagem](https://via.placeholder.com/200)"
   ]
  },
  {
   "cell_type": "markdown",
   "metadata": {},
   "source": [
    "### Exercício 6 - Solução\n",
    "```markdown\n",
    "```\n",
    "def soma(a, b):\n",
    "    return a + b\n",
    "```\n",
    "```\n",
    "\n",
    "Resultado (formatação de bloco de código):\n",
    "```\n",
    "def soma(a, b):\n",
    "    return a + b\n",
    "```"
   ]
  },
  {
   "cell_type": "markdown",
   "metadata": {},
   "source": [
    "### Exercício 7 - Solução\n",
    "```markdown\n",
    "$$ ax + b = 0 $$\n",
    "```\n",
    "\n",
    "Resultado (equação em LaTeX):\n",
    "$$ ax + b = 0 $$"
   ]
  },
  {
   "cell_type": "raw",
   "metadata": {},
   "source": [
    "### Exercício 8 - Solução\n",
    "Este é um texto em Raw NBConvert.\n",
    "A diferença principal é que células Raw não são processadas ou formatadas como Markdown.\n",
    "Elas podem ser usadas para anotações que não serão renderizadas ou para incluir texto que se deseja exportar de forma diferente."
   ]
  },
  {
   "cell_type": "markdown",
   "metadata": {},
   "source": [
    "### Exercício 9 - Solução\n",
    "Utilizamos a *magia* `%%time` para medir o tempo de execução do nosso código.\n"
   ]
  },
  {
   "cell_type": "code",
   "metadata": {},
   "source": [
    "%%time\n",
    "soma = 0\n",
    "for i in range(10_000_000):\n",
    "    soma += i\n",
    "soma"
   ],
   "execution_count": null,
   "outputs": []
  },
  {
   "cell_type": "markdown",
   "metadata": {},
   "source": [
    "### Exercício 10 - Solução\n",
    "Uma célula de código em Python que imprime `Olá, turma!`."
   ]
  },
  {
   "cell_type": "code",
   "metadata": {},
   "source": [
    "print(\"Olá, turma!\")"
   ],
   "execution_count": null,
   "outputs": []
  },
  {
   "cell_type": "markdown",
   "metadata": {},
   "source": [
    "---\n",
    "## Fim da Versão do Professor\n",
    "Acima, mostramos exemplos de implementação para cada exercício."
   ]
  }
 ],
 "metadata": {
  "name": "Exercicio_Professor",
  "kernelspec": {
   "name": "python3",
   "display_name": "Python 3"
  },
  "language_info": {
   "name": "python"
  }
 },
 "nbformat": 4,
 "nbformat_minor": 5
}
