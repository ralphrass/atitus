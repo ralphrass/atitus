{
 "cells": [
  {
   "cell_type": "code",
   "execution_count": 1,
   "id": "29f797cc-9b72-4d81-94d9-647a3bee30b1",
   "metadata": {},
   "outputs": [
    {
     "name": "stdout",
     "output_type": "stream",
     "text": [
      "Soma em Python puro: 5000358.12 (Tempo: 0.4628 segundos)\n",
      "Soma com NumPy: 5000358.12 (Tempo: 0.0020 segundos)\n"
     ]
    }
   ],
   "source": [
    "import time\n",
    "import numpy as np\n",
    "\n",
    "tamanho = 10**7\n",
    "dados = np.random.rand(tamanho)\n",
    "\n",
    "start_python = time.time()\n",
    "soma = sum(dados)\n",
    "end_python = time.time()\n",
    "print(f\"Soma em Python puro: {soma:.2f} (Tempo: {end_python - start_python:.4f} segundos)\")\n",
    "\n",
    "start_numpy = time.time()\n",
    "soma_numpy = np.sum(dados)\n",
    "end_numpy = time.time()\n",
    "print(f\"Soma com NumPy: {soma_numpy:.2f} (Tempo: {end_numpy - start_numpy:.4f} segundos)\")\n"
   ]
  },
  {
   "cell_type": "code",
   "execution_count": null,
   "id": "09bd8c82-ff94-4940-9953-163583b96d6d",
   "metadata": {},
   "outputs": [],
   "source": []
  }
 ],
 "metadata": {
  "kernelspec": {
   "display_name": "Python 3 (ipykernel)",
   "language": "python",
   "name": "python3"
  },
  "language_info": {
   "codemirror_mode": {
    "name": "ipython",
    "version": 3
   },
   "file_extension": ".py",
   "mimetype": "text/x-python",
   "name": "python",
   "nbconvert_exporter": "python",
   "pygments_lexer": "ipython3",
   "version": "3.9.19"
  }
 },
 "nbformat": 4,
 "nbformat_minor": 5
}
